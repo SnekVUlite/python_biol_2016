{
 "cells": [
  {
   "cell_type": "markdown",
   "metadata": {},
   "source": [
    "# Krasné prezentace v IPython Notebooku pomocí Markdown"
   ]
  },
  {
   "cell_type": "markdown",
   "metadata": {},
   "source": [
    "> Markdown je odlehčený značkovací jazyk, \n",
    "> který slouží pro úpravu prostého textu \n",
    "> a jeho následný převod na formátovaný text publikovatelný na webu, \n",
    "> zejména ve formátu HTML. <cite>https://cs.wikipedia.org/wiki/Markdown</cite>"
   ]
  },
  {
   "cell_type": "markdown",
   "metadata": {},
   "source": [
    "Odkaz na článek o Merkdownu v IPython Notebooku: http://nestacms.com/docs/creating-content/markdown-cheat-sheet\n",
    "\n",
    "Z buňky, ve které se vykonává kod, udělate buňku s markdown pomocí klavesove zkrátky `Esc` + `M` nebo u příslušné buňky změníte z `Code` na `Markdown`."
   ]
  },
  {
   "cell_type": "markdown",
   "metadata": {},
   "source": [
    "## Nadpisy"
   ]
  },
  {
   "cell_type": "markdown",
   "metadata": {},
   "source": [
    "Nadpis se vytvoří pomocí `#`, přičemž `# Nadpis1` je největší a `###### Nadpis 6` je nejmenší. Po nadpisu musí následovat prázdný řádek."
   ]
  },
  {
   "cell_type": "markdown",
   "metadata": {},
   "source": [
    "# Nadpis 1\n",
    "## Nadpis 2\n",
    "### Nadpis 3\n",
    "#### Nadpis 4\n",
    "##### Nadpis 5\n",
    "##### Nadpis 6"
   ]
  },
  {
   "cell_type": "markdown",
   "metadata": {},
   "source": [
    "`# Nadpis 1`\n",
    "\n",
    "`## Nadpis 2`\n",
    "\n",
    "`### Nadpis 3`\n",
    "\n",
    "`#### Nadpis 4`\n",
    "\n",
    "`##### Nadpis 5`\n",
    "\n",
    "`##### Nadpis 6`\n"
   ]
  },
  {
   "cell_type": "markdown",
   "metadata": {},
   "source": [
    "## Citáce"
   ]
  },
  {
   "cell_type": "markdown",
   "metadata": {},
   "source": [
    "Citovat lze pomocí znaku `>` a tagu `<cite></cite>`."
   ]
  },
  {
   "cell_type": "markdown",
   "metadata": {},
   "source": [
    "> Štěstí! Co je štěstí? Muška jenom zlatá, \n",
    "> která za večera kol tvé hlavy chvátá; oblétá ti skráně, \n",
    "> v kadeři se kryje, v dlaně hlavu skládáš, ruka utlačí je.\n",
    "> Štěstí jako rosa na květech se skvěje, ale bludná noha náhle zašlápne je; \n",
    "> zašlápnuto vzdechne, v oblacích se tratí, snad se jinovatkou na tvou kadeř vrátí...\n",
    "<cite>Adolf Heyduk</cite>"
   ]
  },
  {
   "cell_type": "markdown",
   "metadata": {},
   "source": [
    "```\n",
    "> Štěstí! Co je štěstí? Muška jenom zlatá, \n",
    "> která za večera kol tvé hlavy chvátá; oblétá ti skráně, \n",
    "> v kadeři se kryje, v dlaně hlavu skládáš, ruka utlačí je.\n",
    "> Štěstí jako rosa na květech se skvěje, ale bludná noha náhle zašlápne je; \n",
    "> zašlápnuto vzdechne, v oblacích se tratí, snad se jinovatkou na tvou kadeř vrátí...\n",
    "<cite>Adolf Heyduk</cite>\n",
    "```"
   ]
  },
  {
   "cell_type": "markdown",
   "metadata": {},
   "source": [
    "## Psání kurzívou a tučně"
   ]
  },
  {
   "cell_type": "markdown",
   "metadata": {},
   "source": [
    "Pro kurzívu použíjeme jednu hvězdičku kolem slova nebo fráze, pro tučné zvýraznění dvě hvězdičky."
   ]
  },
  {
   "cell_type": "markdown",
   "metadata": {},
   "source": [
    "Takto píšeme *kurzívou* a takto **tučně**."
   ]
  },
  {
   "cell_type": "markdown",
   "metadata": {},
   "source": [
    "Takto píšeme `*kurzívou*` a takto `**tučně**`."
   ]
  },
  {
   "cell_type": "markdown",
   "metadata": {},
   "source": [
    "## Seznamy"
   ]
  },
  {
   "cell_type": "markdown",
   "metadata": {},
   "source": [
    "### Číslované seznamy\n",
    "\n",
    "Jednotlivé položky se číslují, úrovně se vytvářejí pomocí odsazení tabulatory."
   ]
  },
  {
   "cell_type": "markdown",
   "metadata": {},
   "source": [
    "1. Položka 1\n",
    "    1. Položka 1.1\n",
    "        1. Položka 1.1.1\n",
    "    2. Položka 1.2\n",
    "2. Položka 2\n",
    "    1. Položka 2.1\n",
    "        1. Položka 2.1.1\n",
    "    2. Položka 2.2"
   ]
  },
  {
   "cell_type": "markdown",
   "metadata": {},
   "source": [
    "```\n",
    "1. Položka 1\n",
    "    1. Položka 1.1\n",
    "        1. Položka 1.1.1\n",
    "    2. Položka 1.2\n",
    "2. Položka 2\n",
    "    1. Položka 2.1\n",
    "        1. Položka 2.1.1\n",
    "    2. Položka 2.2\n",
    "```"
   ]
  },
  {
   "cell_type": "markdown",
   "metadata": {},
   "source": [
    "### Nečíslované seznamy"
   ]
  },
  {
   "cell_type": "markdown",
   "metadata": {},
   "source": [
    "Nečíslované seznamy se vytvářejí podobně jako nečíslované, jenom se místo čísel použijí hvězdičky."
   ]
  },
  {
   "cell_type": "markdown",
   "metadata": {},
   "source": [
    "* Brambory\n",
    "    * Salatové\n",
    "    * Přílohové\n",
    "* Tatarka\n",
    "* Celer\n",
    "* Petržel"
   ]
  },
  {
   "cell_type": "markdown",
   "metadata": {},
   "source": [
    "```\n",
    "* Brambory\n",
    "    * Salatové\n",
    "    * Přílohové\n",
    "* Tatarka\n",
    "* Celer\n",
    "* Petržel\n",
    "```"
   ]
  },
  {
   "cell_type": "markdown",
   "metadata": {},
   "source": [
    "## Odkazy\n",
    "\n",
    "Odkaz se vytvoří takto:\n",
    "    \n",
    "`[text odkazu](adresa stránky)`"
   ]
  },
  {
   "cell_type": "markdown",
   "metadata": {},
   "source": [
    "[Programování pro biology](http://anastazie.github.io/intro_python_biol/)"
   ]
  },
  {
   "cell_type": "markdown",
   "metadata": {},
   "source": [
    "`[Programování pro biology](http://anastazie.github.io/intro_python_biol/)`"
   ]
  },
  {
   "cell_type": "markdown",
   "metadata": {},
   "source": [
    "## Obrázky\n",
    "\n",
    "Obrázek se vloží obdobně jako odkaz:\n",
    "    \n",
    "`![nepovinný popisek obrázku](odkaz na obrazek nebo adresa obrázku v počítači)`"
   ]
  },
  {
   "cell_type": "markdown",
   "metadata": {},
   "source": [
    "![baby fox and mom](https://s-media-cache-ak0.pinimg.com/564x/30/ff/b4/30ffb4277de18906da520b1980323829.jpg)"
   ]
  },
  {
   "cell_type": "markdown",
   "metadata": {},
   "source": [
    "`![baby fox and mom](https://s-media-cache-ak0.pinimg.com/564x/30/ff/b4/30ffb4277de18906da520b1980323829.jpg)`"
   ]
  }
 ],
 "metadata": {
  "kernelspec": {
   "display_name": "Python 3",
   "language": "python",
   "name": "python3"
  },
  "language_info": {
   "codemirror_mode": {
    "name": "ipython",
    "version": 3
   },
   "file_extension": ".py",
   "mimetype": "text/x-python",
   "name": "python",
   "nbconvert_exporter": "python",
   "pygments_lexer": "ipython3",
   "version": "3.5.2"
  }
 },
 "nbformat": 4,
 "nbformat_minor": 1
}
