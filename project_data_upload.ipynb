{
 "cells": [
  {
   "cell_type": "markdown",
   "metadata": {},
   "source": [
    "# Analýza souboru GTF lidského genomu\n",
    "\n",
    "## Filip Sedlák"
   ]
  },
  {
   "cell_type": "markdown",
   "metadata": {},
   "source": [
    "## Analýza"
   ]
  },
  {
   "cell_type": "markdown",
   "metadata": {},
   "source": [
    "Pomocí příkazu `grep` jsem rozdělil GTF soubor na geny a transkripty.\n",
    "\n",
    "*Pozn.* Použitím `!` v IPython Notebooku lze spouštět bashové příkazy."
   ]
  },
  {
   "cell_type": "code",
   "execution_count": 1,
   "metadata": {
    "collapsed": false
   },
   "outputs": [],
   "source": [
    "!cat Homo_sapiens.GRCh38.86.gtf | grep -E \"\\s+gene\\s+\" > Homo_sapiens.GRCh38.86_gene.gtf"
   ]
  },
  {
   "cell_type": "code",
   "execution_count": 2,
   "metadata": {
    "collapsed": true
   },
   "outputs": [],
   "source": [
    "!cat Homo_sapiens.GRCh38.86.gtf | grep -E \"\\s+transcript\\s+\" > Homo_sapiens.GRCh38.86_transcript.gtf"
   ]
  },
  {
   "cell_type": "markdown",
   "metadata": {},
   "source": [
    "Naimportoval jsem potrebne moduly."
   ]
  },
  {
   "cell_type": "code",
   "execution_count": 3,
   "metadata": {
    "collapsed": true
   },
   "outputs": [],
   "source": [
    "import pandas as pd\n",
    "import numpy as np\n",
    "import matplotlib as plt\n",
    "import pylab as pl\n",
    "import re"
   ]
  },
  {
   "cell_type": "markdown",
   "metadata": {},
   "source": [
    "Načetl jsem soubory s geny a transkripty, vytvořené z GTF souboru."
   ]
  },
  {
   "cell_type": "code",
   "execution_count": 4,
   "metadata": {
    "collapsed": false
   },
   "outputs": [],
   "source": [
    "genes=pd.read_table('/home/nasta/Documents/python_bio/project/Homo_sapiens.GRCh38.86_gene.gtf', header=None, dtype={0:np.object})   \n",
    "transcripts=pd.read_table('/home/nasta/Documents/python_bio/project/Homo_sapiens.GRCh38.86_transcript.gtf', header=None, dtype={0:np.object})        "
   ]
  },
  {
   "cell_type": "code",
   "execution_count": 5,
   "metadata": {
    "collapsed": true
   },
   "outputs": [],
   "source": [
    "genes.columns = [\"seqname\", \"source\", \"feature\", \"start\", \"end\", \"score\", \"strand\", \"frame\", \"attribute\"]\n",
    "transcripts.columns = [\"seqname\", \"source\", \"feature\", \"start\", \"end\", \"score\", \"strand\", \"frame\", \"attribute\"]"
   ]
  },
  {
   "cell_type": "code",
   "execution_count": 6,
   "metadata": {
    "collapsed": false
   },
   "outputs": [
    {
     "data": {
      "text/html": [
       "<div>\n",
       "<table border=\"1\" class=\"dataframe\">\n",
       "  <thead>\n",
       "    <tr style=\"text-align: right;\">\n",
       "      <th></th>\n",
       "      <th>seqname</th>\n",
       "      <th>source</th>\n",
       "      <th>feature</th>\n",
       "      <th>start</th>\n",
       "      <th>end</th>\n",
       "      <th>score</th>\n",
       "      <th>strand</th>\n",
       "      <th>frame</th>\n",
       "      <th>attribute</th>\n",
       "    </tr>\n",
       "  </thead>\n",
       "  <tbody>\n",
       "    <tr>\n",
       "      <th>0</th>\n",
       "      <td>1</td>\n",
       "      <td>havana</td>\n",
       "      <td>gene</td>\n",
       "      <td>11869</td>\n",
       "      <td>14409</td>\n",
       "      <td>.</td>\n",
       "      <td>+</td>\n",
       "      <td>.</td>\n",
       "      <td>gene_id \"ENSG00000223972\"; gene_version \"5\"; g...</td>\n",
       "    </tr>\n",
       "    <tr>\n",
       "      <th>1</th>\n",
       "      <td>1</td>\n",
       "      <td>havana</td>\n",
       "      <td>gene</td>\n",
       "      <td>14404</td>\n",
       "      <td>29570</td>\n",
       "      <td>.</td>\n",
       "      <td>-</td>\n",
       "      <td>.</td>\n",
       "      <td>gene_id \"ENSG00000227232\"; gene_version \"5\"; g...</td>\n",
       "    </tr>\n",
       "    <tr>\n",
       "      <th>2</th>\n",
       "      <td>1</td>\n",
       "      <td>mirbase</td>\n",
       "      <td>gene</td>\n",
       "      <td>17369</td>\n",
       "      <td>17436</td>\n",
       "      <td>.</td>\n",
       "      <td>-</td>\n",
       "      <td>.</td>\n",
       "      <td>gene_id \"ENSG00000278267\"; gene_version \"1\"; g...</td>\n",
       "    </tr>\n",
       "    <tr>\n",
       "      <th>3</th>\n",
       "      <td>1</td>\n",
       "      <td>ensembl_havana</td>\n",
       "      <td>gene</td>\n",
       "      <td>29554</td>\n",
       "      <td>31109</td>\n",
       "      <td>.</td>\n",
       "      <td>+</td>\n",
       "      <td>.</td>\n",
       "      <td>gene_id \"ENSG00000243485\"; gene_version \"4\"; g...</td>\n",
       "    </tr>\n",
       "    <tr>\n",
       "      <th>4</th>\n",
       "      <td>1</td>\n",
       "      <td>havana</td>\n",
       "      <td>gene</td>\n",
       "      <td>34554</td>\n",
       "      <td>36081</td>\n",
       "      <td>.</td>\n",
       "      <td>-</td>\n",
       "      <td>.</td>\n",
       "      <td>gene_id \"ENSG00000237613\"; gene_version \"2\"; g...</td>\n",
       "    </tr>\n",
       "  </tbody>\n",
       "</table>\n",
       "</div>"
      ],
      "text/plain": [
       "  seqname          source feature  start    end score strand frame  \\\n",
       "0       1          havana    gene  11869  14409     .      +     .   \n",
       "1       1          havana    gene  14404  29570     .      -     .   \n",
       "2       1         mirbase    gene  17369  17436     .      -     .   \n",
       "3       1  ensembl_havana    gene  29554  31109     .      +     .   \n",
       "4       1          havana    gene  34554  36081     .      -     .   \n",
       "\n",
       "                                           attribute  \n",
       "0  gene_id \"ENSG00000223972\"; gene_version \"5\"; g...  \n",
       "1  gene_id \"ENSG00000227232\"; gene_version \"5\"; g...  \n",
       "2  gene_id \"ENSG00000278267\"; gene_version \"1\"; g...  \n",
       "3  gene_id \"ENSG00000243485\"; gene_version \"4\"; g...  \n",
       "4  gene_id \"ENSG00000237613\"; gene_version \"2\"; g...  "
      ]
     },
     "execution_count": 6,
     "metadata": {},
     "output_type": "execute_result"
    }
   ],
   "source": [
    "genes.head()"
   ]
  },
  {
   "cell_type": "markdown",
   "metadata": {},
   "source": [
    "Vytvořil jsem funkci pro rzdělení devátého sloupce - \"attribute\"."
   ]
  },
  {
   "cell_type": "code",
   "execution_count": 7,
   "metadata": {
    "collapsed": false
   },
   "outputs": [
    {
     "data": {
      "text/plain": [
       "{'gene_biotype': 'processed_transcript',\n",
       " 'gene_id': 'ENSG00000241860',\n",
       " 'gene_name': 'RP11-34P13.13',\n",
       " 'transcript_biotype': 'antisense',\n",
       " 'transcript_id': 'ENST00000484859',\n",
       " 'transcript_name': 'RP11-34P13.13-004'}"
      ]
     },
     "execution_count": 7,
     "metadata": {},
     "output_type": "execute_result"
    }
   ],
   "source": [
    "def parse_attributes(attributes_str):\n",
    "    \"\"\"Načte obsah sloupce attribute jako `dict`.\n",
    "    \n",
    "    - Pozor, neporadí si se středníky v hodnotách a očekává uvozovky\n",
    "      kolem každé hodnoty.\n",
    "      \n",
    "      \n",
    "    Parametry:\n",
    "    \n",
    "    `attributes_str` - hodnota GTF sloupce attribute jako string\n",
    "    \"\"\"\n",
    "    ONLY_ATTRIBUTES = set([\"gene_id\", \n",
    "                          \"transcript_id\",\n",
    "                          \"gene_name\",\n",
    "                          \"gene_biotype\",\n",
    "                          \"transcript_name\",\n",
    "                          \"transcript_biotype\"])\n",
    "    \n",
    "    out = {}\n",
    "    \n",
    "    for pair in attributes_str.split(\";\"):\n",
    "        if pair.strip() == \"\":\n",
    "            continue\n",
    "        m = re.match(r\"^\\s*(.+) \\\"(.+)\\\"$\", pair)\n",
    "        \n",
    "        if m.group(1) in ONLY_ATTRIBUTES:\n",
    "            out[m.group(1)] = m.group(2)\n",
    "\n",
    "    return out\n",
    "\n",
    "\n",
    "s = \"\"\"gene_id \"ENSG00000241860\"; gene_version \"6\"; transcript_id \"ENST00000484859\"; transcript_version \"1\"; gene_name \"RP11-34P13.13\"; gene_source \"havana\"; gene_biotype \"processed_transcript\"; havana_gene \"OTTHUMG00000002480\"; havana_gene_version \"3\"; transcript_name \"RP11-34P13.13-004\"; transcript_source \"havana\"; transcript_biotype \"antisense\"; havana_transcript \"OTTHUMT00000007035\"; havana_transcript_version \"1\"; tag \"basic\"; transcript_support_level \"5\";\"\"\"\n",
    "parse_attributes(s)"
   ]
  },
  {
   "cell_type": "markdown",
   "metadata": {},
   "source": [
    "Takto jsem rozdělil sloupec v obou tabulkách."
   ]
  },
  {
   "cell_type": "code",
   "execution_count": 8,
   "metadata": {
    "collapsed": false
   },
   "outputs": [],
   "source": [
    "def split_attribute_column(df):\n",
    "    \"\"\"Rozdělí sloupec `attribute` data frame GTF souboru do vlastních\n",
    "    sloupců.\n",
    "    \"\"\"\n",
    "    attributes_columns = df.attribute.apply(parse_attributes).apply(pd.Series)\n",
    "    return pd.concat([df.drop([\"attribute\"], axis=1),\n",
    "                      attributes_columns],\n",
    "                     axis=1)\n",
    "\n",
    "genes = split_attribute_column(genes)\n",
    "transcripts = split_attribute_column(transcripts)"
   ]
  },
  {
   "cell_type": "code",
   "execution_count": 9,
   "metadata": {
    "collapsed": false
   },
   "outputs": [
    {
     "data": {
      "text/html": [
       "<div>\n",
       "<table border=\"1\" class=\"dataframe\">\n",
       "  <thead>\n",
       "    <tr style=\"text-align: right;\">\n",
       "      <th></th>\n",
       "      <th>seqname</th>\n",
       "      <th>source</th>\n",
       "      <th>feature</th>\n",
       "      <th>start</th>\n",
       "      <th>end</th>\n",
       "      <th>score</th>\n",
       "      <th>strand</th>\n",
       "      <th>frame</th>\n",
       "      <th>gene_biotype</th>\n",
       "      <th>gene_id</th>\n",
       "      <th>gene_name</th>\n",
       "    </tr>\n",
       "  </thead>\n",
       "  <tbody>\n",
       "    <tr>\n",
       "      <th>0</th>\n",
       "      <td>1</td>\n",
       "      <td>havana</td>\n",
       "      <td>gene</td>\n",
       "      <td>11869</td>\n",
       "      <td>14409</td>\n",
       "      <td>.</td>\n",
       "      <td>+</td>\n",
       "      <td>.</td>\n",
       "      <td>transcribed_unprocessed_pseudogene</td>\n",
       "      <td>ENSG00000223972</td>\n",
       "      <td>DDX11L1</td>\n",
       "    </tr>\n",
       "    <tr>\n",
       "      <th>1</th>\n",
       "      <td>1</td>\n",
       "      <td>havana</td>\n",
       "      <td>gene</td>\n",
       "      <td>14404</td>\n",
       "      <td>29570</td>\n",
       "      <td>.</td>\n",
       "      <td>-</td>\n",
       "      <td>.</td>\n",
       "      <td>unprocessed_pseudogene</td>\n",
       "      <td>ENSG00000227232</td>\n",
       "      <td>WASH7P</td>\n",
       "    </tr>\n",
       "    <tr>\n",
       "      <th>2</th>\n",
       "      <td>1</td>\n",
       "      <td>mirbase</td>\n",
       "      <td>gene</td>\n",
       "      <td>17369</td>\n",
       "      <td>17436</td>\n",
       "      <td>.</td>\n",
       "      <td>-</td>\n",
       "      <td>.</td>\n",
       "      <td>miRNA</td>\n",
       "      <td>ENSG00000278267</td>\n",
       "      <td>MIR6859-1</td>\n",
       "    </tr>\n",
       "    <tr>\n",
       "      <th>3</th>\n",
       "      <td>1</td>\n",
       "      <td>ensembl_havana</td>\n",
       "      <td>gene</td>\n",
       "      <td>29554</td>\n",
       "      <td>31109</td>\n",
       "      <td>.</td>\n",
       "      <td>+</td>\n",
       "      <td>.</td>\n",
       "      <td>lincRNA</td>\n",
       "      <td>ENSG00000243485</td>\n",
       "      <td>MIR1302-2</td>\n",
       "    </tr>\n",
       "    <tr>\n",
       "      <th>4</th>\n",
       "      <td>1</td>\n",
       "      <td>havana</td>\n",
       "      <td>gene</td>\n",
       "      <td>34554</td>\n",
       "      <td>36081</td>\n",
       "      <td>.</td>\n",
       "      <td>-</td>\n",
       "      <td>.</td>\n",
       "      <td>lincRNA</td>\n",
       "      <td>ENSG00000237613</td>\n",
       "      <td>FAM138A</td>\n",
       "    </tr>\n",
       "  </tbody>\n",
       "</table>\n",
       "</div>"
      ],
      "text/plain": [
       "  seqname          source feature  start    end score strand frame  \\\n",
       "0       1          havana    gene  11869  14409     .      +     .   \n",
       "1       1          havana    gene  14404  29570     .      -     .   \n",
       "2       1         mirbase    gene  17369  17436     .      -     .   \n",
       "3       1  ensembl_havana    gene  29554  31109     .      +     .   \n",
       "4       1          havana    gene  34554  36081     .      -     .   \n",
       "\n",
       "                         gene_biotype          gene_id  gene_name  \n",
       "0  transcribed_unprocessed_pseudogene  ENSG00000223972    DDX11L1  \n",
       "1              unprocessed_pseudogene  ENSG00000227232     WASH7P  \n",
       "2                               miRNA  ENSG00000278267  MIR6859-1  \n",
       "3                             lincRNA  ENSG00000243485  MIR1302-2  \n",
       "4                             lincRNA  ENSG00000237613    FAM138A  "
      ]
     },
     "execution_count": 9,
     "metadata": {},
     "output_type": "execute_result"
    }
   ],
   "source": [
    "genes.head()"
   ]
  },
  {
   "cell_type": "code",
   "execution_count": 10,
   "metadata": {
    "collapsed": false
   },
   "outputs": [
    {
     "data": {
      "text/html": [
       "<div>\n",
       "<table border=\"1\" class=\"dataframe\">\n",
       "  <thead>\n",
       "    <tr style=\"text-align: right;\">\n",
       "      <th></th>\n",
       "      <th>seqname</th>\n",
       "      <th>source</th>\n",
       "      <th>feature</th>\n",
       "      <th>start</th>\n",
       "      <th>end</th>\n",
       "      <th>score</th>\n",
       "      <th>strand</th>\n",
       "      <th>frame</th>\n",
       "      <th>gene_biotype</th>\n",
       "      <th>gene_id</th>\n",
       "      <th>gene_name</th>\n",
       "      <th>transcript_biotype</th>\n",
       "      <th>transcript_id</th>\n",
       "      <th>transcript_name</th>\n",
       "    </tr>\n",
       "  </thead>\n",
       "  <tbody>\n",
       "    <tr>\n",
       "      <th>0</th>\n",
       "      <td>1</td>\n",
       "      <td>havana</td>\n",
       "      <td>transcript</td>\n",
       "      <td>11869</td>\n",
       "      <td>14409</td>\n",
       "      <td>.</td>\n",
       "      <td>+</td>\n",
       "      <td>.</td>\n",
       "      <td>transcribed_unprocessed_pseudogene</td>\n",
       "      <td>ENSG00000223972</td>\n",
       "      <td>DDX11L1</td>\n",
       "      <td>processed_transcript</td>\n",
       "      <td>ENST00000456328</td>\n",
       "      <td>DDX11L1-002</td>\n",
       "    </tr>\n",
       "    <tr>\n",
       "      <th>1</th>\n",
       "      <td>1</td>\n",
       "      <td>havana</td>\n",
       "      <td>transcript</td>\n",
       "      <td>12010</td>\n",
       "      <td>13670</td>\n",
       "      <td>.</td>\n",
       "      <td>+</td>\n",
       "      <td>.</td>\n",
       "      <td>transcribed_unprocessed_pseudogene</td>\n",
       "      <td>ENSG00000223972</td>\n",
       "      <td>DDX11L1</td>\n",
       "      <td>transcribed_unprocessed_pseudogene</td>\n",
       "      <td>ENST00000450305</td>\n",
       "      <td>DDX11L1-001</td>\n",
       "    </tr>\n",
       "    <tr>\n",
       "      <th>2</th>\n",
       "      <td>1</td>\n",
       "      <td>havana</td>\n",
       "      <td>transcript</td>\n",
       "      <td>14404</td>\n",
       "      <td>29570</td>\n",
       "      <td>.</td>\n",
       "      <td>-</td>\n",
       "      <td>.</td>\n",
       "      <td>unprocessed_pseudogene</td>\n",
       "      <td>ENSG00000227232</td>\n",
       "      <td>WASH7P</td>\n",
       "      <td>unprocessed_pseudogene</td>\n",
       "      <td>ENST00000488147</td>\n",
       "      <td>WASH7P-001</td>\n",
       "    </tr>\n",
       "    <tr>\n",
       "      <th>3</th>\n",
       "      <td>1</td>\n",
       "      <td>mirbase</td>\n",
       "      <td>transcript</td>\n",
       "      <td>17369</td>\n",
       "      <td>17436</td>\n",
       "      <td>.</td>\n",
       "      <td>-</td>\n",
       "      <td>.</td>\n",
       "      <td>miRNA</td>\n",
       "      <td>ENSG00000278267</td>\n",
       "      <td>MIR6859-1</td>\n",
       "      <td>miRNA</td>\n",
       "      <td>ENST00000619216</td>\n",
       "      <td>MIR6859-1-201</td>\n",
       "    </tr>\n",
       "    <tr>\n",
       "      <th>4</th>\n",
       "      <td>1</td>\n",
       "      <td>havana</td>\n",
       "      <td>transcript</td>\n",
       "      <td>29554</td>\n",
       "      <td>31097</td>\n",
       "      <td>.</td>\n",
       "      <td>+</td>\n",
       "      <td>.</td>\n",
       "      <td>lincRNA</td>\n",
       "      <td>ENSG00000243485</td>\n",
       "      <td>MIR1302-2</td>\n",
       "      <td>lincRNA</td>\n",
       "      <td>ENST00000473358</td>\n",
       "      <td>MIR1302-2-001</td>\n",
       "    </tr>\n",
       "  </tbody>\n",
       "</table>\n",
       "</div>"
      ],
      "text/plain": [
       "  seqname   source     feature  start    end score strand frame  \\\n",
       "0       1   havana  transcript  11869  14409     .      +     .   \n",
       "1       1   havana  transcript  12010  13670     .      +     .   \n",
       "2       1   havana  transcript  14404  29570     .      -     .   \n",
       "3       1  mirbase  transcript  17369  17436     .      -     .   \n",
       "4       1   havana  transcript  29554  31097     .      +     .   \n",
       "\n",
       "                         gene_biotype          gene_id  gene_name  \\\n",
       "0  transcribed_unprocessed_pseudogene  ENSG00000223972    DDX11L1   \n",
       "1  transcribed_unprocessed_pseudogene  ENSG00000223972    DDX11L1   \n",
       "2              unprocessed_pseudogene  ENSG00000227232     WASH7P   \n",
       "3                               miRNA  ENSG00000278267  MIR6859-1   \n",
       "4                             lincRNA  ENSG00000243485  MIR1302-2   \n",
       "\n",
       "                   transcript_biotype    transcript_id transcript_name  \n",
       "0                processed_transcript  ENST00000456328     DDX11L1-002  \n",
       "1  transcribed_unprocessed_pseudogene  ENST00000450305     DDX11L1-001  \n",
       "2              unprocessed_pseudogene  ENST00000488147      WASH7P-001  \n",
       "3                               miRNA  ENST00000619216   MIR6859-1-201  \n",
       "4                             lincRNA  ENST00000473358   MIR1302-2-001  "
      ]
     },
     "execution_count": 10,
     "metadata": {},
     "output_type": "execute_result"
    }
   ],
   "source": [
    "transcripts.head()"
   ]
  },
  {
   "cell_type": "markdown",
   "metadata": {},
   "source": [
    "Vybral jsem geny, které se nacházejí na standardních chromozomech."
   ]
  },
  {
   "cell_type": "code",
   "execution_count": 11,
   "metadata": {
    "collapsed": false
   },
   "outputs": [
    {
     "data": {
      "text/plain": [
       "array(['1', '2', '3', '4', '5', '6', '7', 'X', '8', '9', '11', '10', '12',\n",
       "       '13', '14', '15', '16', '17', '18', '20', '19', 'Y', '22', '21',\n",
       "       'MT', 'KI270728.1', 'KI270727.1', 'KI270442.1', 'GL000225.1',\n",
       "       'GL000009.2', 'GL000194.1', 'GL000205.2', 'GL000195.1',\n",
       "       'KI270733.1', 'GL000219.1', 'GL000216.2', 'KI270744.1',\n",
       "       'KI270734.1', 'GL000213.1', 'GL000220.1', 'GL000218.1',\n",
       "       'KI270731.1', 'KI270750.1', 'KI270721.1', 'KI270726.1',\n",
       "       'KI270711.1', 'KI270713.1'], dtype=object)"
      ]
     },
     "execution_count": 11,
     "metadata": {},
     "output_type": "execute_result"
    }
   ],
   "source": [
    "genes[\"seqname\"].unique()"
   ]
  },
  {
   "cell_type": "code",
   "execution_count": 12,
   "metadata": {
    "collapsed": false
   },
   "outputs": [],
   "source": [
    "CHROMOSOMES = ['1', '2', '3', '4', '5', '6', '7', '8', '9', \n",
    "               '11', '10', '12', '13', '14', '15', '16', \n",
    "               '17', '18', '20', '19', '22', '21',\n",
    "               'X', 'Y', \n",
    "               'MT']\n",
    "\n",
    "genes = genes[genes[\"seqname\"].isin(CHROMOSOMES)]\n",
    "transcripts = transcripts[transcripts[\"seqname\"].isin(CHROMOSOMES)]"
   ]
  },
  {
   "cell_type": "code",
   "execution_count": 13,
   "metadata": {
    "collapsed": false
   },
   "outputs": [
    {
     "data": {
      "text/plain": [
       "array(['1', '2', '3', '4', '5', '6', '7', 'X', '8', '9', '11', '10', '12',\n",
       "       '13', '14', '15', '16', '17', '18', '20', '19', 'Y', '22', '21',\n",
       "       'MT'], dtype=object)"
      ]
     },
     "execution_count": 13,
     "metadata": {},
     "output_type": "execute_result"
    }
   ],
   "source": [
    "transcripts[\"seqname\"].unique()"
   ]
  }
 ],
 "metadata": {
  "kernelspec": {
   "display_name": "Python 3",
   "language": "python",
   "name": "python3"
  },
  "language_info": {
   "codemirror_mode": {
    "name": "ipython",
    "version": 3
   },
   "file_extension": ".py",
   "mimetype": "text/x-python",
   "name": "python",
   "nbconvert_exporter": "python",
   "pygments_lexer": "ipython3",
   "version": "3.5.2"
  }
 },
 "nbformat": 4,
 "nbformat_minor": 1
}
