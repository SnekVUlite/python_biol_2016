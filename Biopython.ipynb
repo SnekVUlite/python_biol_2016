{
 "cells": [
  {
   "cell_type": "markdown",
   "metadata": {},
   "source": [
    "# Biopython"
   ]
  },
  {
   "cell_type": "markdown",
   "metadata": {},
   "source": [
    "Biopython je soubor nástrojů pro bioinformatiky.\n",
    "\n",
    "Více info tady: http://biopython.org/wiki/Main_Page\n",
    "        \n",
    "Dokumentace: http://biopython.org/wiki/Documentation\n",
    "        \n",
    "Tutoriál je tady: http://biopython.org/DIST/docs/tutorial/Tutorial.html nebo tady: http://biopython.org/wiki/Getting_Started"
   ]
  },
  {
   "cell_type": "markdown",
   "metadata": {},
   "source": [
    "Stáhnout biopython lze 2 způsoby:\n",
    "\n",
    "1.  `!sudo pip3 install biopython`   \n",
    "    \n",
    "2.  `!conda install biopython`\n",
    "\n",
    "Naimportnovat baliček lze potom následně:"
   ]
  },
  {
   "cell_type": "code",
   "execution_count": 1,
   "metadata": {
    "collapsed": true
   },
   "outputs": [],
   "source": [
    "import Bio"
   ]
  },
  {
   "cell_type": "markdown",
   "metadata": {},
   "source": [
    "## Práce se sekvencemi"
   ]
  },
  {
   "cell_type": "code",
   "execution_count": 7,
   "metadata": {
    "collapsed": false
   },
   "outputs": [
    {
     "name": "stdout",
     "output_type": "stream",
     "text": [
      "CATGTAGACTAG\n"
     ]
    }
   ],
   "source": [
    "from Bio import Seq\n",
    "# Vytvořit objekt Seq\n",
    "my_seq = Seq.Seq('CATGTAGACTAG')\n",
    "print(my_seq)"
   ]
  },
  {
   "cell_type": "code",
   "execution_count": 8,
   "metadata": {
    "collapsed": false
   },
   "outputs": [
    {
     "data": {
      "text/plain": [
       "Bio.Seq.Seq"
      ]
     },
     "execution_count": 8,
     "metadata": {},
     "output_type": "execute_result"
    }
   ],
   "source": [
    "type(my_seq)"
   ]
  },
  {
   "cell_type": "code",
   "execution_count": 13,
   "metadata": {
    "collapsed": false
   },
   "outputs": [
    {
     "name": "stdout",
     "output_type": "stream",
     "text": [
      "Sekvence CATGTAGACTAG má 12 bází\n",
      "Reverzní komplement k CATGTAGACTAG je CTAGTCTACATG\n",
      "Sekvenci CATGTAGACTAG odpovídá sekvence aminokyselin: HVD* \n"
     ]
    }
   ],
   "source": [
    "# Vytisknout par informaci o sekvenci\n",
    "print('Sekvence {0} má {1} bází'.format(my_seq, len(my_seq)))\n",
    "print('Reverzní komplement k {0} je {1}'.format(my_seq, my_seq.reverse_complement()))\n",
    "print('Sekvenci {0} odpovídá sekvence aminokyselin: {1} '.format(my_seq, my_seq.translate()))"
   ]
  },
  {
   "cell_type": "markdown",
   "metadata": {},
   "source": [
    "## Translační tabulky"
   ]
  },
  {
   "cell_type": "code",
   "execution_count": 28,
   "metadata": {
    "collapsed": true
   },
   "outputs": [],
   "source": [
    "# Načíst tabulky z modulu Data\n",
    "from Bio.Data import CodonTable\n",
    "standard_table = CodonTable.unambiguous_dna_by_name[\"Standard\"]\n",
    "mito_table = CodonTable.unambiguous_dna_by_name[\"Vertebrate Mitochondrial\"]"
   ]
  },
  {
   "cell_type": "code",
   "execution_count": 29,
   "metadata": {
    "collapsed": false
   },
   "outputs": [
    {
     "name": "stdout",
     "output_type": "stream",
     "text": [
      "Table 1 Standard, SGC0\n",
      "\n",
      "  |  T      |  C      |  A      |  G      |\n",
      "--+---------+---------+---------+---------+--\n",
      "T | TTT F   | TCT S   | TAT Y   | TGT C   | T\n",
      "T | TTC F   | TCC S   | TAC Y   | TGC C   | C\n",
      "T | TTA L   | TCA S   | TAA Stop| TGA Stop| A\n",
      "T | TTG L(s)| TCG S   | TAG Stop| TGG W   | G\n",
      "--+---------+---------+---------+---------+--\n",
      "C | CTT L   | CCT P   | CAT H   | CGT R   | T\n",
      "C | CTC L   | CCC P   | CAC H   | CGC R   | C\n",
      "C | CTA L   | CCA P   | CAA Q   | CGA R   | A\n",
      "C | CTG L(s)| CCG P   | CAG Q   | CGG R   | G\n",
      "--+---------+---------+---------+---------+--\n",
      "A | ATT I   | ACT T   | AAT N   | AGT S   | T\n",
      "A | ATC I   | ACC T   | AAC N   | AGC S   | C\n",
      "A | ATA I   | ACA T   | AAA K   | AGA R   | A\n",
      "A | ATG M(s)| ACG T   | AAG K   | AGG R   | G\n",
      "--+---------+---------+---------+---------+--\n",
      "G | GTT V   | GCT A   | GAT D   | GGT G   | T\n",
      "G | GTC V   | GCC A   | GAC D   | GGC G   | C\n",
      "G | GTA V   | GCA A   | GAA E   | GGA G   | A\n",
      "G | GTG V   | GCG A   | GAG E   | GGG G   | G\n",
      "--+---------+---------+---------+---------+--\n"
     ]
    }
   ],
   "source": [
    "# Vytisknout standardní tabulku kodonů\n",
    "print(standard_table)"
   ]
  },
  {
   "cell_type": "code",
   "execution_count": 30,
   "metadata": {
    "collapsed": false
   },
   "outputs": [
    {
     "name": "stdout",
     "output_type": "stream",
     "text": [
      "Table 2 Vertebrate Mitochondrial, SGC1\n",
      "\n",
      "  |  T      |  C      |  A      |  G      |\n",
      "--+---------+---------+---------+---------+--\n",
      "T | TTT F   | TCT S   | TAT Y   | TGT C   | T\n",
      "T | TTC F   | TCC S   | TAC Y   | TGC C   | C\n",
      "T | TTA L   | TCA S   | TAA Stop| TGA W   | A\n",
      "T | TTG L   | TCG S   | TAG Stop| TGG W   | G\n",
      "--+---------+---------+---------+---------+--\n",
      "C | CTT L   | CCT P   | CAT H   | CGT R   | T\n",
      "C | CTC L   | CCC P   | CAC H   | CGC R   | C\n",
      "C | CTA L   | CCA P   | CAA Q   | CGA R   | A\n",
      "C | CTG L   | CCG P   | CAG Q   | CGG R   | G\n",
      "--+---------+---------+---------+---------+--\n",
      "A | ATT I(s)| ACT T   | AAT N   | AGT S   | T\n",
      "A | ATC I(s)| ACC T   | AAC N   | AGC S   | C\n",
      "A | ATA M(s)| ACA T   | AAA K   | AGA Stop| A\n",
      "A | ATG M(s)| ACG T   | AAG K   | AGG Stop| G\n",
      "--+---------+---------+---------+---------+--\n",
      "G | GTT V   | GCT A   | GAT D   | GGT G   | T\n",
      "G | GTC V   | GCC A   | GAC D   | GGC G   | C\n",
      "G | GTA V   | GCA A   | GAA E   | GGA G   | A\n",
      "G | GTG V(s)| GCG A   | GAG E   | GGG G   | G\n",
      "--+---------+---------+---------+---------+--\n"
     ]
    }
   ],
   "source": [
    "# Vytisknout mitochondriální tabulku kodonů\n",
    "print(mito_table)"
   ]
  },
  {
   "cell_type": "markdown",
   "metadata": {},
   "source": [
    "### Příklad: výpočet GC%\n",
    "\n",
    "* Bez použití `Biopython`"
   ]
  },
  {
   "cell_type": "code",
   "execution_count": 31,
   "metadata": {
    "collapsed": false
   },
   "outputs": [
    {
     "data": {
      "text/plain": [
       "46.875"
      ]
     },
     "execution_count": 31,
     "metadata": {},
     "output_type": "execute_result"
    }
   ],
   "source": [
    "my_seq = 'GATCGATGGGCCTATATAGGATCGAAAATCGC'\n",
    "100 * float(my_seq.count(\"G\") + my_seq.count(\"C\")) / len(my_seq)"
   ]
  },
  {
   "cell_type": "markdown",
   "metadata": {},
   "source": [
    "* S použitím `Biopython`"
   ]
  },
  {
   "cell_type": "code",
   "execution_count": 32,
   "metadata": {
    "collapsed": false
   },
   "outputs": [
    {
     "data": {
      "text/plain": [
       "46.875"
      ]
     },
     "execution_count": 32,
     "metadata": {},
     "output_type": "execute_result"
    }
   ],
   "source": [
    "from Bio.Seq import Seq\n",
    "from Bio.Alphabet import IUPAC\n",
    "from Bio.SeqUtils import GC\n",
    "my_seq = Seq('GATCGATGGGCCTATATAGGATCGAAAATCGC', IUPAC.unambiguous_dna)\n",
    "GC(my_seq)"
   ]
  },
  {
   "cell_type": "markdown",
   "metadata": {},
   "source": [
    "### Příklad: transkripce"
   ]
  },
  {
   "cell_type": "code",
   "execution_count": 38,
   "metadata": {
    "collapsed": false
   },
   "outputs": [
    {
     "name": "stdout",
     "output_type": "stream",
     "text": [
      "CTATCGGGCACCCTTTCAGCGGCCCATTACAATGGCCAT\n",
      "AUGGCCAUUGUAAUGGGCCGCUGAAAGGGUGCCCGAUAG\n"
     ]
    }
   ],
   "source": [
    "# Transkripce DNA z templátového vlákna\n",
    "from Bio.Seq import Seq\n",
    "from Bio.Alphabet import IUPAC\n",
    "template_dna = Seq(\"CTATCGGGCACCCTTTCAGCGGCCCATTACAATGGCCAT\", IUPAC.unambiguous_dna)\n",
    "print(template_dna)\n",
    "messenger_rna_template = template_dna.reverse_complement().transcribe()\n",
    "print(messenger_rna_template)"
   ]
  },
  {
   "cell_type": "markdown",
   "metadata": {},
   "source": [
    "### Příklad: translace"
   ]
  },
  {
   "cell_type": "code",
   "execution_count": 40,
   "metadata": {
    "collapsed": false
   },
   "outputs": [
    {
     "name": "stdout",
     "output_type": "stream",
     "text": [
      "MAIVMGR*KGAR*\n",
      "MAIVMGRWKGAR*\n",
      "MAIVMGR*KGAR*\n"
     ]
    }
   ],
   "source": [
    "from Bio.Seq import Seq\n",
    "from Bio.Alphabet import IUPAC\n",
    "messenger_rna = Seq(\"AUGGCCAUUGUAAUGGGCCGCUGAAAGGGUGCCCGAUAG\", IUPAC.unambiguous_rna)\n",
    "# Translace RNA s použitím různých translačních tabulek\n",
    "print(messenger_rna.translate())\n",
    "print(messenger_rna.translate(table=\"Vertebrate Mitochondrial\"))\n",
    "print(messenger_rna.translate(table=\"Bacterial\"))"
   ]
  },
  {
   "cell_type": "markdown",
   "metadata": {},
   "source": [
    "# Práce se soubory FASTA"
   ]
  },
  {
   "cell_type": "markdown",
   "metadata": {},
   "source": [
    "Analýza genu cytochrom c oxidáza, III. podjednotka.\n",
    "[NCBI Reference Sequence](https://www.ncbi.nlm.nih.gov/nuccore/NC_015812.1?report=fasta&log$=seqview&from=9501&to=10284).\n",
    "\n",
    "![](https://s-media-cache-ak0.pinimg.com/236x/dd/37/6c/dd376cbe805b9d7ed6b44c5b99b9353c.jpg)"
   ]
  },
  {
   "cell_type": "code",
   "execution_count": 16,
   "metadata": {
    "collapsed": false
   },
   "outputs": [
    {
     "name": "stdout",
     "output_type": "stream",
     "text": [
      "lcl|NC_015812.1_cds_YP_004733491.1_1\n",
      "784\n",
      "lcl|NC_015812.1_cds_YP_004733495.1_1\n",
      "1794\n",
      "lcl|NC_015812.1_cds_YP_004733496.1_2\n",
      "513\n",
      "lcl|NC_015812.1_cds_YP_004733485.1_1\n",
      "964\n"
     ]
    }
   ],
   "source": [
    "from Bio import SeqIO\n",
    "# Vytisknout pro každou sekvenci: 1. ID, 2. Délku\n",
    "for seq_record in SeqIO.parse(\"python.fasta\", \"fasta\"):\n",
    "    print(seq_record.id)\n",
    "    print(len(seq_record))"
   ]
  },
  {
   "cell_type": "code",
   "execution_count": 18,
   "metadata": {
    "collapsed": false
   },
   "outputs": [
    {
     "name": "stdout",
     "output_type": "stream",
     "text": [
      "<class 'list'>\n",
      "<class 'Bio.SeqRecord.SeqRecord'>\n"
     ]
    }
   ],
   "source": [
    "handle = open(\"python.fasta\", \"r\")\n",
    "# Zapsat sekvence do seznamu\n",
    "records = list(SeqIO.parse(handle, \"fasta\"))\n",
    "handle.close()\n",
    "print(type(records))\n",
    "print(type(records[0]))"
   ]
  },
  {
   "cell_type": "code",
   "execution_count": 20,
   "metadata": {
    "collapsed": false
   },
   "outputs": [
    {
     "name": "stdout",
     "output_type": "stream",
     "text": [
      "lcl|NC_015812.1_cds_YP_004733491.1_1\n",
      "lcl|NC_015812.1_cds_YP_004733485.1_1\n"
     ]
    }
   ],
   "source": [
    "print(records[0].id)  # ID první sekvence\n",
    "print(records[-1].id) # ID poslední sekvence"
   ]
  },
  {
   "cell_type": "markdown",
   "metadata": {},
   "source": [
    "## Práce se soubory ve formátu GenBank"
   ]
  },
  {
   "cell_type": "code",
   "execution_count": 21,
   "metadata": {
    "collapsed": false
   },
   "outputs": [
    {
     "name": "stdout",
     "output_type": "stream",
     "text": [
      "ID: NC_015812.1\n",
      "Name: NC_015812\n",
      "Description: Python molurus molurus mitochondrion, complete genome.\n",
      "Database cross-references: Project:70065, BioProject:PRJNA70065\n",
      "Number of features: 3\n",
      "/taxonomy=['Eukaryota', 'Metazoa', 'Chordata', 'Craniata', 'Vertebrata', 'Euteleostomi', 'Lepidosauria', 'Squamata', 'Bifurcata', 'Unidentata', 'Episquamata', 'Toxicofera', 'Serpentes', 'Henophidia', 'Pythonidae', 'Python']\n",
      "/keywords=['RefSeq']\n",
      "/accessions=['NC_015812', 'REGION:', '2580..3543']\n",
      "/references=[Reference(title='Complete mitochondrial genome of Python molurus', ...), Reference(title='Direct Submission', ...), Reference(title='Direct Submission', ...)]\n",
      "/sequence_version=1\n",
      "/topology=linear\n",
      "/comment=REVIEWED REFSEQ: This record has been curated by NCBI staff. The\n",
      "reference sequence is identical to HM581978.\n",
      "COMPLETENESS: full length.\n",
      "/date=21-JUL-2011\n",
      "/data_file_division=VRT\n",
      "/organism=Python molurus molurus\n",
      "/source=mitochondrion Python molurus molurus (Indian python)\n",
      "Seq('ATAATAACCAACATCCTACTCAACATTATCAACCCACTACTCTACATCATCTCC...AAT', IUPACAmbiguousDNA())\n",
      "ID: NC_015812.1\n",
      "Name: NC_015812\n",
      "Description: Python molurus molurus mitochondrion, complete genome.\n",
      "Database cross-references: Project:70065, BioProject:PRJNA70065\n",
      "Number of features: 5\n",
      "/taxonomy=['Eukaryota', 'Metazoa', 'Chordata', 'Craniata', 'Vertebrata', 'Euteleostomi', 'Lepidosauria', 'Squamata', 'Bifurcata', 'Unidentata', 'Episquamata', 'Toxicofera', 'Serpentes', 'Henophidia', 'Pythonidae', 'Python']\n",
      "/keywords=['RefSeq']\n",
      "/accessions=['NC_015812', 'REGION:', '12597..14390']\n",
      "/references=[Reference(title='Complete mitochondrial genome of Python molurus', ...), Reference(title='Direct Submission', ...), Reference(title='Direct Submission', ...)]\n",
      "/sequence_version=1\n",
      "/topology=linear\n",
      "/comment=REVIEWED REFSEQ: This record has been curated by NCBI staff. The\n",
      "reference sequence is identical to HM581978.\n",
      "COMPLETENESS: full length.\n",
      "/date=21-JUL-2011\n",
      "/data_file_division=VRT\n",
      "/organism=Python molurus molurus\n",
      "/source=mitochondrion Python molurus molurus (Indian python)\n",
      "Seq('ATGAATACTATCACCCCAACAATAACCCTAGCCGTGTTCCTATCTTCGACACTA...TAA', IUPACAmbiguousDNA())\n",
      "ID: NC_015812.1\n",
      "Name: NC_015812\n",
      "Description: Python molurus molurus mitochondrion, complete genome.\n",
      "Database cross-references: Project:70065, BioProject:PRJNA70065\n",
      "Number of features: 3\n",
      "/taxonomy=['Eukaryota', 'Metazoa', 'Chordata', 'Craniata', 'Vertebrata', 'Euteleostomi', 'Lepidosauria', 'Squamata', 'Bifurcata', 'Unidentata', 'Episquamata', 'Toxicofera', 'Serpentes', 'Henophidia', 'Pythonidae', 'Python']\n",
      "/keywords=['RefSeq']\n",
      "/accessions=['NC_015812', 'REGION:', '9501..10284']\n",
      "/references=[Reference(title='Complete mitochondrial genome of Python molurus', ...), Reference(title='Direct Submission', ...), Reference(title='Direct Submission', ...)]\n",
      "/sequence_version=1\n",
      "/topology=linear\n",
      "/comment=REVIEWED REFSEQ: This record has been curated by NCBI staff. The\n",
      "reference sequence is identical to HM581978.\n",
      "COMPLETENESS: full length.\n",
      "/date=21-JUL-2011\n",
      "/data_file_division=VRT\n",
      "/organism=Python molurus molurus\n",
      "/source=mitochondrion Python molurus molurus (Indian python)\n",
      "Seq('ATGACCCACCAACTCCACCAATACCACATAGTCGACCCCAGCCCTTGACCCTTA...CAT', IUPACAmbiguousDNA())\n"
     ]
    }
   ],
   "source": [
    "from Bio import SeqIO\n",
    "input_handle = open(\"python.gbk\", \"r\")\n",
    "for record in SeqIO.parse(input_handle, \"genbank\") :\n",
    "    print(record)\n",
    "input_handle.close()"
   ]
  },
  {
   "cell_type": "code",
   "execution_count": 22,
   "metadata": {
    "collapsed": false
   },
   "outputs": [
    {
     "name": "stdout",
     "output_type": "stream",
     "text": [
      "Converted 3 records\n"
     ]
    }
   ],
   "source": [
    "# Převest GenBank format na Fasta\n",
    "count = SeqIO.convert(\"python.gbk\", \"genbank\", \"python_converted.fasta\", \"fasta\")\n",
    "print(\"Converted {0} records\".format(count))"
   ]
  },
  {
   "cell_type": "code",
   "execution_count": 25,
   "metadata": {
    "collapsed": false
   },
   "outputs": [
    {
     "name": "stdout",
     "output_type": "stream",
     "text": [
      "NC_015812.1\n",
      "Python molurus molurus mitochondrion, complete genome.\n",
      "ATAATAACCAACATCCTACTCAACATTATCAACCCACTACTCTACATCATCTCCATCCTAATCGCAGTAGCCTTCTTAACCTTCCTGGAACGAAAACTACTAGGGTATATACAACTACGAAAAGGCCCAAACCTAGTAGGCCCAATGGGCCTATTACAACCAATCGCAGACGGCATTAAACTCATCCTAAAAGAACCAACAAAACCCACACTCTCATCCCCAATCCTATTTACCCTATCCCCAATTCTAGCACTCACCTTAGCATTAACCACCTGAGCCCCAATACCCATACCATTCCCACTAACTAACATGAACCTAGCCTTACTATTCATCATAGCCATATCAGGTATATTCACATACACAATCCTCTGATCAGGCTGATCATCAAACTCAAAATATCCACTAATAGGCGCCATACGAGCCGTCGCACAAATCATTTCATACGAAGTCACACTAGGCCTAATCATTATATCTATAGCCACAATCACAGGAGGTTACTCACTACAATCTTTCACAACAACACAAGAACCCATATGACTTCTACTCCCATCATGACCATTAGCCATGATGTGATTCACATCCACCCTAGCAGAAACTAACCGATCACCATTCGATCTGACAGAAGGAGAATCCGAACTAGTCTCCGGATTCAATGTAGAATTCTCAGCTGGCCCATTTGCCCTACTCTTCCTAGCAGAATACACAAACATCCTTATAATAAACACCCTCTCCACCATAATATTCCTAAACCCAGGAACTCAAAACTCACCATTATTCACAATTAACCTTATAACAAAATCCATCCTCCTTACAACTATCTTCCTATGAGTCCGAGCATCCTACCCACGATTCCGCTATGACCAACTAATACACCTACTATGGAAACAATATTTACCCCTAACCCTAGGCATATGCATATTAAATATCTCAACCACAACAGCCTTCCACGGCACCCCACCACAAT\n",
      "NC_015812.1\n",
      "Python molurus molurus mitochondrion, complete genome.\n",
      "ATGAATACTATCACCCCAACAATAACCCTAGCCGTGTTCCTATCTTCGACACTAATCTGTAAGCAACTGCTCACCAAACCAAACCTCAATTTACATTACACAAAAAATAGTCTAATAACCACATTTATCATAAGCCTTATCCCACTAACCCTTCTACTAAACAACGAGAATGAAACTACACTATCTACATCACCCATCATTAACACAACCACAATAAATATTAACATTAGCTTTATCCTAGACACACCCTCGCTAACCTTCATCCCTATCGCCTTATTCATCACATGATCTATCATCGAATTCTCAGCGTGGTATATATCAACTGACCCCTACATCAACAAATTCATCAAATACCTTTTCATCTTCCTAATCGCAATACTAACCATCATTACAGCAAACAACATATACCAACTATTCATCGGCTGAGAAGGAGTAGGCATCATATCATTCCTGCTAATCGGATGGTGATATGCCCGATCAGACGCAAACACCGCAGCCTTACAAGCTATTATCTACAATCGAATCGGCGATATTGGCCTTATCATAACCACAGCATGACTTTTACTACTATCCTCCATAAACATACAAGAACTCTTCACACAGCACGGGATCATCAACATTATTCCACTTATTGGCCTAAGCGCTGCAGCCACAGGAAAATCCGCCCAATTCGGCCTTCACCCATGACTTCCAGCCGCCATAGAAGGCCCAACACCGGTATCGGCTCTACTCAACTCAGGCACCATAGGTGTAGCAGGCGTTTTCCTATTAATTCGCCTACACCCAACCATACAGAATAATAAACTCGCACTAACCATCTGCCTGATCCTAGGGGCAACAACAACTATATTCGCAGCCGCTGCAGCAACAACCCAACATGATATCAAAAAGATCATCGCATTATCAACAACCAGCCAACTAGGCCTAATAATAACAATAATTGGACTAAACCAACCAACACTAGCCTTCCTACACATAGCCACCCACTCCTTTTTCAAAGCACTTCTATTCTTATGCTCAGGATCCTTCATTCACAACCTAGAAAACGAACAAGACATCCGAAAAATAGGAAACCTTAATAAAACTATACCAATAACCACATCCACCATCACAATTGCCAGCCTAACACTAATAGGTATACCCTTCCTTTCAGGGTTCTACTCTAAAGACACCATCATTGAAACCATCATAAACTCCCACACCAACTCATGAGCCCTAATCATAACACTAATCGCAACCATACTATCCGCCATATACAGCATACGTATTATTCACCTCACACTAACAGGATTTCCTCGTACCAAACAAAAAATTCATCATGAGACAAAGGCCCCAACCAAGCCTATCTTACGACTTACCTTCGGATCAATCTTCGTAGGCACAATGACTAAACTCTCAACCCTACGGACAACCACCATACACCCTATACCAACGACTATCAAACTATCGGCACTTACCATTACCTTAACAGGAATTGTCCTATCAACAGGCCTACTATTCCTATCAACCAAACAGCCCCCACAAAAACCAAAAACACTCAACCGGTTTTTTAACCAATTAGGTTTTTTCAATCTCCTTCACCGAGGACTCCCAATAAAAACATTAAAATTTGGCCAAACAACCTGGACAGAATTAATCGACCTATGAACCCTAGAAAACTACGGACCAAAAGGCTTATCAAATACATCCATTCCACTAATTCACATAACTACACAACAAAAAAATCTAATTAAAAATTATATAACCACCTTCACCCTAACAATAATCATTACCTTAGTACTCAGCTGCCCCTAA\n",
      "NC_015812.1\n",
      "Python molurus molurus mitochondrion, complete genome.\n",
      "ATGACCCACCAACTCCACCAATACCACATAGTCGACCCCAGCCCTTGACCCTTAACGGGGGGCCTAGGCTCCCTACTCACGGCCTCAGGACTAGCCCTATGATTCCATACAAACACAACCACCGTCTTGAAACTGGGCCTGCTTACCCTCACCCTAACCCTCATCCAATGATGACGCGATGTTGTACGAGAAGGCACCTTCCAAGGCCACCACACAAAAGGAGTACAAAAAAACATACGTTATGGAATAATACTGTTCATTGTATCCGAAGTCTTCTTCTTCCTAGGTTTTTTCTGAACCCTATATCACGTAAGCCTAGTCCCTACACCAGAACTAGGAGCTGAATGACCCCCAACCGGAATTATCCCACTTAACCCACTAGAAGTCCCACTACTCAACACAGCAGTCCTACTATCATCCGGCGCCACAGTTACATGATCACACCACGCATTAATACAAGGCAACAAAAAAGAGGCAACATACGCCCTCATAATCACCATCGCACTAGGCATTTACTTCACAGCCCTCCAACTCTCAGAATATATAGAGACCCCCTTTACAATCTCAGACAGCGTCTACGGCTCCCTATTTTTCGTAGCCACAGGTTTCCATGGATTTCACGTGATAATCGGAACCACATTCCTAATCGTATGTCTGGCACGTCTTATCAACTTCCACTTCACAACATCACACCACTTCGGGTACGAAGCAGCAATTTGATACTGACACTTCGTCGACGTGGTTTGATTATTCCTATTTGTCTCAGTCTACTGATGAGGATCAT\n"
     ]
    }
   ],
   "source": [
    "input_handle = open(\"python.gbk\", \"r\")\n",
    "for record in SeqIO.parse(input_handle, \"genbank\") :\n",
    "    print(record.id)\n",
    "    print(record.description)\n",
    "    print(record.seq)\n",
    "input_handle.close()"
   ]
  }
 ],
 "metadata": {
  "kernelspec": {
   "display_name": "Python 3",
   "language": "python",
   "name": "python3"
  },
  "language_info": {
   "codemirror_mode": {
    "name": "ipython",
    "version": 3
   },
   "file_extension": ".py",
   "mimetype": "text/x-python",
   "name": "python",
   "nbconvert_exporter": "python",
   "pygments_lexer": "ipython3",
   "version": "3.5.2"
  }
 },
 "nbformat": 4,
 "nbformat_minor": 1
}
